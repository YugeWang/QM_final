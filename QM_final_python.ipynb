{
 "cells": [
  {
   "cell_type": "code",
   "execution_count": null,
   "metadata": {},
   "outputs": [],
   "source": [
    "import pandas as pd\n",
    "import matplotlib.pyplot as plt\n",
    "from matplotlib import rcParams\n",
    "import statsmodels.api as sm\n",
    "import statsmodels.formula.api as smf\n",
    "from statsmodels.nonparametric.smoothers_lowess import lowess\n",
    "import numpy as np\n",
    "import scipy.stats as stats\n",
    "from statsmodels.formula.api import ols"
   ]
  },
  {
   "cell_type": "code",
   "execution_count": null,
   "metadata": {},
   "outputs": [],
   "source": [
    "#import datset\n",
    "CGSS2017 = pd.read_csv (r'cgss2017.csv', low_memory=False)"
   ]
  },
  {
   "cell_type": "code",
   "execution_count": null,
   "metadata": {},
   "outputs": [],
   "source": [
    "print(f\"Data frame is {CGSS2017.shape[0]:,} x {CGSS2017.shape[1]}\")"
   ]
  },
  {
   "cell_type": "code",
   "execution_count": null,
   "metadata": {},
   "outputs": [],
   "source": [
    "#define needed variables\n",
    "cols=['a31','a7a','a15','a8a','a43a','a89b','a27h','a2','a43d']"
   ]
  },
  {
   "cell_type": "code",
   "execution_count": null,
   "metadata": {},
   "outputs": [],
   "source": [
    "#subset with needed variables\n",
    "CGSS2017_1 = pd.read_csv (r'cgss2017.csv', low_memory=False, usecols=cols)\n",
    "print(f\"Data frame is {CGSS2017_1.shape[0]:,} x {CGSS2017_1.shape[1]}\")"
   ]
  },
  {
   "cell_type": "code",
   "execution_count": null,
   "metadata": {},
   "outputs": [],
   "source": [
    "CGSS2017_1.sample(6, random_state=8)"
   ]
  },
  {
   "cell_type": "code",
   "execution_count": null,
   "metadata": {},
   "outputs": [],
   "source": [
    "#rename columnes\n",
    "CGSS2017_1 = CGSS2017_1.rename(columns = {'a2':'gender','a31':'birth_year','a7a':'c_educ','a8a':'c_income',\n",
    "                         'a15':'c_health','a27h':'c_hukou','a43a':'c_sc',\n",
    "                                         'a43d':'p_sc','a89b':'f_educ'})"
   ]
  },
  {
   "cell_type": "code",
   "execution_count": null,
   "metadata": {},
   "outputs": [],
   "source": [
    "#subset and check for numbers people born from 1960-1979, total value, boys and girls\n",
    "n1 = CGSS2017_2[(CGSS2017_2['birth_year'] > 1959) & (CGSS2017_2['birth_year'] < 1980) ]\n",
    "n1n = n1.shape[0]\n",
    "n1b = n1[n1['gender'].isin(['1'])].shape[0]\n",
    "n1g = n1[n1['gender'].isin(['2'])].shape[0]\n",
    "print(n1n, n1b, n1g)"
   ]
  },
  {
   "cell_type": "code",
   "execution_count": null,
   "metadata": {},
   "outputs": [],
   "source": [
    "#subset and check for numbers people born from 1980-1999, boys and girls\n",
    "n2 = CGSS2017_2[CGSS2017_2['birth_year'] > 1979]\n",
    "n2n = n2.shape[0]\n",
    "n2b = n2[n2['gender'].isin(['1'])].shape[0]\n",
    "n2g = n2[n2['gender'].isin(['2'])].shape[0]\n",
    "print(n2n, n2b, n2g)"
   ]
  },
  {
   "cell_type": "code",
   "execution_count": null,
   "metadata": {},
   "outputs": [],
   "source": [
    "#missing value in n1\n",
    "c_sc_1 = n1[n1['c_sc'].isin(['98','99'])].shape[0]\n",
    "p_sc_1 = n1[n1['p_sc'].isin(['98','99'])].shape[0]\n",
    "c_health_1 = n1[n1['c_health'].isin(['98','99'])].shape[0]\n",
    "c_educ_1 = n1[n1['c_educ'].isin(['14'])].shape[0]\n",
    "f_educ_1 = n1[n1['f_educ'].isin(['14','98','99'])].shape[0]\n",
    "c_income_1 = n1[n1['c_income'].isin(['9999996','99999997','99999998','99999999'])].shape[0]\n",
    "c_hukou_1 = n1[n1['c_hukou'].isin(['98','99'])].shape[0]\n",
    "birth_year_1 = n1[n1['birth_year'].isin(['98'])].shape[0]\n",
    "print(c_sc_1, p_sc_1,c_health_1, c_educ_1, f_educ_1, c_income_1, c_hukou_1, birth_year_1)"
   ]
  },
  {
   "cell_type": "code",
   "execution_count": null,
   "metadata": {},
   "outputs": [],
   "source": [
    "#missing value in n2\n",
    "c_sc_2 = n2[n2['c_sc'].isin(['98','99'])].shape[0]\n",
    "p_sc_2 = n2[n2['p_sc'].isin(['98','99'])].shape[0]\n",
    "c_health_2 = n2[n2['c_health'].isin(['98','99'])].shape[0]\n",
    "c_educ_2 = n2[n2['c_educ'].isin(['14'])].shape[0]\n",
    "f_educ_2 = n2[n2['f_educ'].isin(['14','98','99'])].shape[0]\n",
    "c_income_2 = n2[n2['c_income'].isin(['9999996','99999997','99999998','99999999'])].shape[0]\n",
    "c_hukou_2 = n2[n2['c_hukou'].isin(['98','99'])].shape[0]\n",
    "birth_year_2 = n2[n2['birth_year'].isin(['98'])].shape[0]\n",
    "print(c_sc_2, p_sc_2,c_health_2, c_educ_2, f_educ_2, c_income_2, c_hukou_2, birth_year_2)"
   ]
  },
  {
   "cell_type": "code",
   "execution_count": null,
   "metadata": {},
   "outputs": [],
   "source": [
    "#export to csv for R to do hot deck imputation\n",
    "n1.to_csv(r'n1',index=False)\n",
    "n2.to_csv(r'n2',index=False)"
   ]
  },
  {
   "cell_type": "code",
   "execution_count": null,
   "metadata": {},
   "outputs": [],
   "source": [
    "#import dataset after HDI\n",
    "n1_imp = pd.read_csv (r'n1_imp.csv')\n",
    "n2_imp = pd.read_csv (r'n2_imp.csv')\n",
    "n2_imp.sample(6, random_state=8)"
   ]
  },
  {
   "cell_type": "code",
   "execution_count": null,
   "metadata": {},
   "outputs": [],
   "source": [
    "#transform hukou to dummy variables\n",
    "# creating dummies for gender \n",
    "n1_imp['c_hukou'] = n1_imp['c_hukou'].map({2:1, 3:1, 4:2, 5:2, 6:2,7:2}) \n",
    "n2_imp['c_hukou'] = n2_imp['c_hukou'].map({2:1, 3:1, 4:2, 5:2, 6:2,7:2}) \n",
    "n1_imp.sample(6, random_state=8)"
   ]
  },
  {
   "cell_type": "code",
   "execution_count": null,
   "metadata": {},
   "outputs": [],
   "source": [
    "#find mean of each gender\n",
    "n1_imp.groupby('gender').mean()"
   ]
  },
  {
   "cell_type": "code",
   "execution_count": null,
   "metadata": {},
   "outputs": [],
   "source": [
    "#find mean of each gender\n",
    "n2_imp.groupby('gender').mean()"
   ]
  },
  {
   "cell_type": "code",
   "execution_count": null,
   "metadata": {},
   "outputs": [],
   "source": [
    "#find std n1\n",
    "n1_imp.groupby('gender').std()"
   ]
  },
  {
   "cell_type": "code",
   "execution_count": null,
   "metadata": {},
   "outputs": [],
   "source": [
    "#find std n2\n",
    "n2_imp.groupby('gender').std()"
   ]
  },
  {
   "cell_type": "code",
   "execution_count": null,
   "metadata": {},
   "outputs": [],
   "source": [
    "# find median of children income\n",
    "m1 = n1_imp.groupby('gender').median()\n",
    "m2 = n2_imp.groupby('gender').median()\n",
    "print(m1, m2)"
   ]
  },
  {
   "cell_type": "code",
   "execution_count": null,
   "metadata": {},
   "outputs": [],
   "source": [
    "#residual plot\n",
    "#fit simple linear regression model\n",
    "model = ols('c_educ ~ f_educ+ p_sc + c_sc + c_hukou +c_health', data=n1_imp).fit()\n",
    "\n",
    "#view model summary\n",
    "print(model.summary())"
   ]
  },
  {
   "cell_type": "code",
   "execution_count": null,
   "metadata": {},
   "outputs": [],
   "source": [
    "#partial regression plot\n",
    "fig = sm.graphics.plot_partregress_grid(model)\n",
    "fig.tight_layout(pad=0.35)"
   ]
  },
  {
   "cell_type": "code",
   "execution_count": null,
   "metadata": {},
   "outputs": [],
   "source": [
    "#residual plot\n",
    "view_rawresiduals = model.resid\n",
    "fitted = model.fittedvalues\n",
    "smoothed = lowess(view_rawresiduals,fitted)\n",
    "top3 = abs(view_rawresiduals).sort_values(ascending = False)[:3]\n",
    "\n",
    "plt.rcParams.update({'font.size': 16})\n",
    "plt.rcParams[\"figure.figsize\"] = (8,7)\n",
    "fig, ax = plt.subplots()\n",
    "ax.scatter(fitted, residuals, edgecolors = 'k', facecolors = 'none')\n",
    "ax.plot(smoothed[:,0],smoothed[:,1],color = 'r')\n",
    "ax.set_ylabel('Residuals')\n",
    "ax.set_xlabel('Fitted Values')\n",
    "ax.set_title('Residuals vs. Fitted')\n",
    "ax.plot([min(fitted),max(fitted)],[0,0],color = 'k',linestyle = ':', alpha = .3)\n",
    "\n",
    "for i in top3.index:\n",
    "    ax.annotate(i,xy=(fitted[i],residuals[i]))\n",
    "\n",
    "plt.show()"
   ]
  },
  {
   "cell_type": "code",
   "execution_count": null,
   "metadata": {},
   "outputs": [],
   "source": [
    "#QQplot\n",
    "sorted_student_residuals = pd.Series(model.get_influence().resid_studentized_internal)\n",
    "sorted_student_residuals.index = model.resid.index\n",
    "sorted_student_residuals = sorted_student_residuals.sort_values(ascending = True)\n",
    "df = pd.DataFrame(sorted_student_residuals)\n",
    "df.columns = ['sorted_student_residuals']\n",
    "df['theoretical_quantiles'] = stats.probplot(df['sorted_student_residuals'], dist = 'norm', fit = False)[0]\n",
    "rankings = abs(df['sorted_student_residuals']).sort_values(ascending = False)\n",
    "top3 = rankings[:3]\n",
    "\n",
    "fig, ax = plt.subplots()\n",
    "x = df['theoretical_quantiles']\n",
    "y = df['sorted_student_residuals']\n",
    "ax.scatter(x,y, edgecolor = 'k',facecolor = 'none')\n",
    "ax.set_title('Normal Q-Q')\n",
    "ax.set_ylabel('Standardized Residuals')\n",
    "ax.set_xlabel('Theoretical Quantiles')\n",
    "ax.plot([np.min([x,y]),np.max([x,y])],[np.min([x,y]),np.max([x,y])], color = 'r', ls = '--')\n",
    "for val in top3.index:\n",
    "    ax.annotate(val,xy=(df['theoretical_quantiles'].loc[val],df['sorted_student_residuals'].loc[val]))\n",
    "plt.show()"
   ]
  },
  {
   "cell_type": "code",
   "execution_count": null,
   "metadata": {},
   "outputs": [],
   "source": [
    "#fit OLS regression model for first cohort,education\n",
    "c_educ_1b = n1_imp.loc[n1_imp['gender'] == 1]\n",
    "c_educ_1b = ols('c_educ ~ f_educ+ p_sc + c_hukou +c_health + birth_year', data=c_educ_1b).fit()\n",
    "c_educ_1g = n1_imp.loc[n1_imp['gender'] == 2]\n",
    "c_educ_1g = ols('c_educ ~ f_educ+ p_sc + c_hukou +c_health+ birth_year', data=c_educ_1g).fit()\n",
    "#view model summary\n",
    "print(c_educ_1b.summary())\n",
    "print(c_educ_1g.summary())"
   ]
  },
  {
   "cell_type": "code",
   "execution_count": null,
   "metadata": {},
   "outputs": [],
   "source": [
    "#fit OLS regression model for first cohort,education\n",
    "c_educ_2b = n2_imp.loc[n2_imp['gender'] == 1]\n",
    "c_educ_2b = ols('c_educ ~ f_educ+ p_sc + c_hukou +c_health + birth_year', data=c_educ_2b).fit()\n",
    "c_educ_2g = n2_imp.loc[n2_imp['gender'] == 2]\n",
    "c_educ_2g = ols('c_educ ~ f_educ+ p_sc + c_hukou +c_health+ birth_year', data=c_educ_2g).fit()\n",
    "#view model summary\n",
    "print(c_educ_2b.summary())\n",
    "print(c_educ_2g.summary())"
   ]
  },
  {
   "cell_type": "code",
   "execution_count": null,
   "metadata": {},
   "outputs": [],
   "source": [
    "#fit OLS regression model for first cohort,social class\n",
    "c_sc_1b = n1_imp.loc[n1_imp['gender'] == 1]\n",
    "c_sc_1b = ols('c_sc ~ f_educ+ p_sc + c_hukou +c_health + c_educ+ birth_year', data=c_sc_1b).fit()\n",
    "c_sc_1g = n1_imp.loc[n1_imp['gender'] == 2]\n",
    "c_sc_1g = ols('c_sc ~ f_educ+ p_sc + c_hukou +c_health + c_educ+ birth_year', data=c_sc_1g).fit()\n",
    "#view model summary\n",
    "print(c_sc_1b.summary())\n",
    "print(c_sc_1g.summary())"
   ]
  },
  {
   "cell_type": "code",
   "execution_count": null,
   "metadata": {},
   "outputs": [],
   "source": [
    "#fit OLS regression model for first cohort,social class\n",
    "c_sc_2b = n2_imp.loc[n2_imp['gender'] == 1]\n",
    "c_sc_2b = ols('c_sc ~ f_educ+ p_sc + c_hukou +c_health + c_educ+ birth_year', data=c_sc_2b).fit()\n",
    "c_sc_2g = n2_imp.loc[n2_imp['gender'] == 2]\n",
    "c_sc_2g = ols('c_sc ~ f_educ+ p_sc + c_hukou +c_health + c_educ+ birth_year', data=c_sc_2g).fit()\n",
    "#view model summary\n",
    "print(c_sc_2b.summary())\n",
    "print(c_sc_2g.summary())"
   ]
  }
 ],
 "metadata": {
  "kernelspec": {
   "display_name": "Python 3",
   "language": "python",
   "name": "python3"
  },
  "language_info": {
   "codemirror_mode": {
    "name": "ipython",
    "version": 3
   },
   "file_extension": ".py",
   "mimetype": "text/x-python",
   "name": "python",
   "nbconvert_exporter": "python",
   "pygments_lexer": "ipython3",
   "version": "3.8.3"
  }
 },
 "nbformat": 4,
 "nbformat_minor": 4
}
